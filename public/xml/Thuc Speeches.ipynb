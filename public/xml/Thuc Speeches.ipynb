{
 "cells": [
  {
   "cell_type": "code",
   "execution_count": 139,
   "metadata": {},
   "outputs": [
    {
     "name": "stdout",
     "output_type": "stream",
     "text": [
      "speeches 1450 -2.04551724137931\n",
      "narratives 4605 -0.6777415852334419\n"
     ]
    }
   ],
   "source": [
    "import re\n",
    "inspeech = {}\n",
    "vbind = {'i':0, 'm': 1, 'p':2, 's':3, 'o' : 4, 'n': 5, '1':6,'tot': 7}\n",
    "\n",
    "\n",
    "f = open(\"/Users/gcrane/github/Thucydides-new-working-materials/thuc-speeches.tsv\",\"r\")\n",
    "for l in f:\n",
    "    l = re.sub('\\s+$','',l)\n",
    "    m = re.search('([1-8]|[1-8]\\.[0-9]+)\\.([0-9]+)\\-([1-8]|[1-8]\\.[0-9]+)\\.([0-9]+)$',l)\n",
    "    if(m):\n",
    "        book = m[1]\n",
    "        start = m[2]\n",
    "        stop = m[4]\n",
    "        #print(book,start,stop,l)\n",
    "\n",
    "        args = l.split('\\t')\n",
    "        speaker = args[0]\n",
    "        location = args[1]\n",
    "        if( int(stop) < int(start) ):\n",
    "            print(\"error\",stop,\"less than\", start,l)\n",
    "        for x in range(int(start),int(stop)):\n",
    "            inspeech[str(book)+\".\"+str(x)] = speaker + '\\t' + location\n",
    "        inspeech[str(book)+\".\"+stop] = speaker + '\\t' + location\n",
    "\n",
    "def gettreebank(tbname):\n",
    "    global vbind\n",
    "    f = open(tbname)\n",
    "    curcit = ''\n",
    "    curtbank = {}\n",
    "    cittab = {}\n",
    "    senttab = {}\n",
    "    sentverbs = {}\n",
    "    sentcits = {}\n",
    "    senttexts = {}\n",
    "    \n",
    "    \n",
    "    for l in f:\n",
    "        l = re.sub('\\s+$','',l)\n",
    "        \n",
    "        \n",
    "        m = re.search('subdoc=\"([^\"]+)\"',l)\n",
    "        if(m):\n",
    "            curcit = m[1]\n",
    "            \n",
    "        m = re.search('form=\"([^\"]+)\"',l)\n",
    "        if(m):\n",
    "            curform = m[1]\n",
    "            \n",
    "        m = re.search('sentence id=\"([^\"]+)\"',l)\n",
    "        if(m):\n",
    "            sentid = m[1]\n",
    "            sentverbs[sentid] = [0,0,0,0,0,0,0,0]\n",
    "            sentcits[sentid] = curcit\n",
    "            senttexts[sentid] = ''\n",
    "            \n",
    "        m = re.search('word id=\"([^\"]+)\"',l)\n",
    "        if(m):\n",
    "            curid = m[1]\n",
    "            \n",
    "            curtbank[curid] = l\n",
    "            cittab[curid] = curcit\n",
    "            senttab[curid] = sentid\n",
    "            \n",
    "            sentverbs[sentid][vbind['tot']] = sentverbs[sentid][vbind['tot']] + 1\n",
    "            if(senttexts[sentid]):\n",
    "                senttexts[sentid] = senttexts[sentid] + ' '\n",
    "            senttexts[sentid] = senttexts[sentid] + curform\n",
    "        \n",
    "        m = re.search('postag=\"v(1)',l)\n",
    "        if(m):\n",
    "            curv = vbind[m[1]]\n",
    "            sentverbs[sentid][curv] = sentverbs[sentid][curv] + 1\n",
    "            \n",
    "        m = re.search('postag=\"v...(.)',l)\n",
    "        if(m):\n",
    "            curv = vbind[m[1]]\n",
    "            sentverbs[sentid][curv] = sentverbs[sentid][curv] + 1\n",
    "    return curtbank,sentcits,sentverbs,senttexts\n",
    "            \n",
    "            \n",
    "thuctb,thuccits,thucsents,thuctexts = gettreebank('0003-001.xml')\n",
    "\n",
    "outf = open('thucsentvbs.tsv','w')\n",
    "\n",
    "print('cit','gen/spk','loc','sentid','ind-noninds','\\t'.join(vbind),'txt',sep='\\t',file=outf)\n",
    "narrs = 0\n",
    "speeches = 0\n",
    "narr_ind2non = 0\n",
    "speech_ind2non = 0\n",
    "for foo in thuctexts:\n",
    "    nonind = 0\n",
    "    noninds = str(thucsents[foo][0]) + '\\t'\n",
    "    for i in range(1,7):\n",
    "        noninds = noninds + str(thucsents[foo][i]) + '\\t'\n",
    "        nonind = thucsents[foo][i] + nonind\n",
    "    noninds = noninds + str(thucsents[foo][7]) + '\\t' + str(thucsents[foo][6])\n",
    "    bookchapsection = thuccits[foo]\n",
    "    bookchap = re.sub('\\.[0-9]+$','',thuccits[foo])\n",
    "    usecit = bookchap\n",
    "    indnonind = thucsents[foo][0]-nonind\n",
    "    \n",
    "    if(bookchap in inspeech):\n",
    "        genre = inspeech[bookchap]\n",
    "        speeches = speeches + 1\n",
    "        speech_ind2non = speech_ind2non + indnonind\n",
    "    elif( bookchapsection in inspeech):\n",
    "        genre = inspeech[bookchapsection]\n",
    "        speeches = speeches + 1\n",
    "        usecit = bookchapsection\n",
    "        speech_ind2non = speech_ind2non + indnonind\n",
    "\n",
    "        \n",
    "    else:\n",
    "        \n",
    "        genre = 'narrative\\ttbd'\n",
    "        narrs = narrs + 1\n",
    "        narr_ind2non = narr_ind2non + indnonind\n",
    "    #if(thucsents[foo][0] and nonind == 0):\n",
    "    if(thucsents[foo][6] and not usecit in inspeech):\n",
    "        print(thuccits[foo],genre,foo,thucsents[foo][0],noninds,thuctexts[foo],sep='\\t')\n",
    "        \n",
    "    print(thuccits[foo],genre,foo,indnonind,thucsents[foo][0],noninds,thuctexts[foo],sep='\\t',file=outf)\n",
    "        \n",
    "outf.close()\n",
    "print('speeches',speeches,speech_ind2non/speeches)\n",
    "print('narratives',narrs,narr_ind2non/narrs)\n",
    "            "
   ]
  },
  {
   "cell_type": "code",
   "execution_count": 132,
   "metadata": {},
   "outputs": [
    {
     "data": {
      "text/plain": [
       "'i\\tm\\tp\\ts\\to\\tn\\t1\\ttot'"
      ]
     },
     "execution_count": 132,
     "metadata": {},
     "output_type": "execute_result"
    }
   ],
   "source": [
    "'\\t'.join(vbind)"
   ]
  },
  {
   "cell_type": "code",
   "execution_count": 87,
   "metadata": {},
   "outputs": [
    {
     "ename": "TypeError",
     "evalue": "sequence item 0: expected str instance, int found",
     "output_type": "error",
     "traceback": [
      "\u001b[0;31m---------------------------------------------------------------------------\u001b[0m",
      "\u001b[0;31mTypeError\u001b[0m                                 Traceback (most recent call last)",
      "\u001b[0;32m<ipython-input-87-a4c35fd49302>\u001b[0m in \u001b[0;36m<module>\u001b[0;34m\u001b[0m\n\u001b[1;32m      1\u001b[0m \u001b[0mfoo\u001b[0m \u001b[0;34m=\u001b[0m \u001b[0;34m[\u001b[0m\u001b[0;36m0\u001b[0m\u001b[0;34m,\u001b[0m\u001b[0;36m1\u001b[0m\u001b[0;34m,\u001b[0m\u001b[0;36m3\u001b[0m\u001b[0;34m]\u001b[0m\u001b[0;34m\u001b[0m\u001b[0;34m\u001b[0m\u001b[0m\n\u001b[0;32m----> 2\u001b[0;31m \u001b[0mprint\u001b[0m\u001b[0;34m(\u001b[0m\u001b[0;34m'\\t'\u001b[0m\u001b[0;34m.\u001b[0m\u001b[0mjoin\u001b[0m\u001b[0;34m(\u001b[0m\u001b[0mfoo\u001b[0m\u001b[0;34m)\u001b[0m\u001b[0;34m)\u001b[0m\u001b[0;34m\u001b[0m\u001b[0;34m\u001b[0m\u001b[0m\n\u001b[0m\u001b[1;32m      3\u001b[0m \u001b[0;34m\u001b[0m\u001b[0m\n",
      "\u001b[0;31mTypeError\u001b[0m: sequence item 0: expected str instance, int found"
     ]
    }
   ],
   "source": [
    "foo = [0,1,3]\n",
    "print('\\t'.join(foo))\n",
    "\n"
   ]
  },
  {
   "cell_type": "code",
   "execution_count": null,
   "metadata": {},
   "outputs": [],
   "source": []
  }
 ],
 "metadata": {
  "kernelspec": {
   "display_name": "Python 3",
   "language": "python",
   "name": "python3"
  },
  "language_info": {
   "codemirror_mode": {
    "name": "ipython",
    "version": 3
   },
   "file_extension": ".py",
   "mimetype": "text/x-python",
   "name": "python",
   "nbconvert_exporter": "python",
   "pygments_lexer": "ipython3",
   "version": "3.8.1"
  }
 },
 "nbformat": 4,
 "nbformat_minor": 4
}
